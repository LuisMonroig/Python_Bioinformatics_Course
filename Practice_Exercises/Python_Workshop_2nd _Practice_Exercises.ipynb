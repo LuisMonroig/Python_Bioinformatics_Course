{
 "cells": [
  {
   "cell_type": "markdown",
   "metadata": {},
   "source": [
    "# Python Workshop: 2nd Set of Practice Exercises "
   ]
  },
  {
   "cell_type": "markdown",
   "metadata": {},
   "source": [
    "### Exercise 1: Body mass index(BMI)\n",
    "    Design a program that finds the Body mass index(BMI) of a \n",
    "    and also follows the folloung rules:\n",
    "    \n",
    "        If the BMI is greater than 2.4 let the user know BMI is to high.\n",
    "        If the BMI is smaller than 1.8, let him know it is to low. \n",
    "        If it is between 1.8 ans 2.4, then inform that the BMI is healthy. \n",
    "    \n",
    "$$ BMI = \\frac{mass}{height^2}$$\n",
    "\n",
    "> Hint: Use type conversion functions (e.g. int(), float(), exe) when using input. "
   ]
  },
  {
   "cell_type": "code",
   "execution_count": null,
   "metadata": {},
   "outputs": [],
   "source": [
    "mass = float(input(\"Please enter the mass: \"))\n",
    "height = float(input(\"Please enter your height: \"))\n",
    "\n",
    "BMI = mass/(height)**2\n",
    "\n",
    "print(\"Your BMI =\", BMI)\n",
    "\n",
    "if BMI > 2.4:\n",
    "    print(\"BMI is to high!\")\n",
    "elif BMI < 1.8:\n",
    "    print(\"BMI is to low!\")\n",
    "else:\n",
    "    print(\"Healthy BMI!\")\n",
    "\n"
   ]
  },
  {
   "cell_type": "markdown",
   "metadata": {},
   "source": [
    "### Exercise 2: Data Types in Survey\n",
    "\n",
    "    Fill in the following survey:\n",
    "        Name: \n",
    "        Eye color:\n",
    "        Hegiht:\n",
    "        Salary per hour: \n",
    "        Birthplace: \n",
    "        Age\n",
    "    Print the results to the user together with the results datatype. \n",
    "> Hint: Use the function type(). In this round all datatypes should be str because input\n",
    "is being used but soon we shall figure that convert them into the appropriate data type. \n"
   ]
  },
  {
   "cell_type": "code",
   "execution_count": null,
   "metadata": {},
   "outputs": [],
   "source": [
    "survey_questions = [\"Name:\", \"Eye color:\", \"Hegiht:\", \"Salary per hour:\", \"Birthplace:\",\"Age\"]\n",
    "\n",
    "print(\"\"\"\\t\\tSurvey Questions\n",
    "                ----------------\"\"\")\n",
    "counter = 1\n",
    "\n",
    "answers = []\n",
    "for question in survey_questions:\n",
    "    temp_answer = input(\"Question #{}\\n {}\\n\".format(counter,question))\n",
    "    answers.append(temp_answer)\n",
    "    counter+=1 \n",
    "\n",
    "print(\"\"\"\\t\\tSurvey Anwers\n",
    "                ----------------\"\"\")\n",
    "\n",
    "counter = 1 #reseting counter variable\n",
    "\n",
    "for answer in answers: \n",
    "    print(\"Answer #{}\\n {}\\n Type{} \\n\".format(counter,answer,type(answer)))\n",
    "    counter+=1 \n"
   ]
  },
  {
   "cell_type": "markdown",
   "metadata": {},
   "source": [
    "### Exercise 3: Parking Lot Tariff Calculator\n",
    "   \n",
    "    Develop a program that receives the number of hours from user and ouputs the amount \n",
    "    owed to the parking lot. A parking lot charges according to the following step function: \n",
    "    \n",
    "$$\\begin{array}{|l|c|}\n",
    "\\hline\n",
    "\\text{Hours} & \\text{Total}\\\\\n",
    "\\hline\n",
    "0-1 & 2.5\\\\\n",
    "\\hline\n",
    "1-3 & 4.5\\\\\n",
    "\\hline\n",
    "3-5 & 6.0\\\\\n",
    "\\hline\n",
    "5-\\infty & 7.0\\\\\n",
    "\\hline\n",
    "\\end{array}$$\n",
    "\n",
    "    If the user enters a number of hours higher that 24 hours then inform the user \n",
    "    that his car is very likely in the police station. \n",
    "> Hint: Use elif! "
   ]
  },
  {
   "cell_type": "code",
   "execution_count": null,
   "metadata": {},
   "outputs": [],
   "source": [
    "hours = int(input(\"Please enter the number of hours in the parking lot: \"))\n",
    "\n",
    "if 0 < hours < 1:\n",
    "    amount_due = 2.5\n",
    "elif 1 <= hours < 3:\n",
    "    amount_due = 4.5\n",
    "elif 3 <= hours < 5:\n",
    "    amount_due = 6\n",
    "elif hours >= 5:\n",
    "    amount_due = 7\n",
    "\n",
    "if hours < 24:\n",
    "    print(\"The total amout owned to the parking lot is $\", amount_due)\n",
    "else:\n",
    "    print(\"The total amount owned to the parking lot is $\", amount_due,\". Your car is very likely in the police station.\")\n"
   ]
  },
  {
   "cell_type": "markdown",
   "metadata": {},
   "source": [
    "### Exercise 4: Days of Months\n",
    "\n",
    "    Develop a program that asks the user for a month of the year \n",
    "    and retunrs the number of days of that month.\n",
    "    \n",
    "> Hint: Use Python dictionarys"
   ]
  },
  {
   "cell_type": "code",
   "execution_count": null,
   "metadata": {},
   "outputs": [],
   "source": [
    "days_months = {\"Januaty\":31, \"February\":28, \"March\":31, \"April\": 30, \"May\":31,\n",
    "               \"June\":30, \"July\":31, \"August\": 31, \"September\":30, \"October\":30,\n",
    "               \"November\":30,\"December\":31}\n",
    "\n",
    "month = input(\"Please enter a month of the year: \")\n",
    "\n",
    "if month in days_months:\n",
    "    print(\"\\n {} has {} days.\".format(month,days_months[month]))\n",
    "else: \n",
    "    print(\"Invalid month name! Please make sure you are spelling the month name correctly with the first letter capitalized.\")\n",
    "\n"
   ]
  },
  {
   "cell_type": "markdown",
   "metadata": {},
   "source": [
    "### Exercise 5: Ceasar's Cypher\n",
    "    The FBI uncovered a piece of data being transmitted and believes it contains a secret \n",
    "    message about the 2020 elections that was encrypted with a Caesar's cypher with a right shift\n",
    "    of 3 (using the english alphabet). The intercepted message was the following: \n",
    "\n",
    "    \"Zh khoshg Elghq vwhdo wkh hohfwlrq. Dovr, Nduod lv wkh oryh ri pb olih.\"\n",
    "\n",
    "    Decrypt the message to help save the 2020 election! Hint use dictionarys, for loops and \n",
    "    other tools studied.\n",
    "\n",
    "> Hint: Use any necessary string methods and list slices to save yourself time in this critical mission! \n",
    "\n",
    "\n"
   ]
  },
  {
   "cell_type": "code",
   "execution_count": 6,
   "metadata": {},
   "outputs": [
    {
     "name": "stdout",
     "output_type": "stream",
     "text": [
      "The cypher text is \" Nduod lv wkh oryh ri pb olih. \"\n",
      "\n",
      "Please enter the Caesar's cypher shift amount: 3\n",
      "Enter 'r' or 'l' if shift direction is right or left respectively.r\n",
      "{'A': 'X', 'B': 'Y', 'C': 'Z', 'D': 'A', 'E': 'B', 'F': 'C', 'G': 'D', 'H': 'E', 'I': 'F', 'J': 'G', 'K': 'H', 'L': 'I', 'M': 'J', 'N': 'K', 'O': 'L', 'P': 'M', 'Q': 'N', 'R': 'O', 'S': 'P', 'T': 'Q', 'U': 'R', 'V': 'S', 'W': 'T', 'X': 'U', 'Y': 'V', 'Z': 'W'}\n",
      "Plaintext is: KARLA IS THE LOVE OF MY LIFE.\n"
     ]
    }
   ],
   "source": [
    "cypher_text = \"Nduod lv wkh oryh ri pb olih.\"\n",
    "print(\"The cypher text is \\\"\",cypher_text,\"\\\"\\n\")\n",
    "\n",
    "shift = int(input(\"Please enter the Caesar's cypher shift amount: \"))\n",
    "\n",
    "shift_direction = input(\"Enter \\'r\\' or \\'l\\' if shift direction is right or left respectively.\")\n",
    "\n",
    "real_shift = shift % 26 \n",
    "\n",
    "alphabet = ['A','B', 'C', 'D', 'E', 'F', 'G', 'H', 'I', 'J', 'K', 'L', 'M', 'N', 'O',\n",
    "            'P', 'Q', 'R', 'S', 'T', 'U','V', 'W','X', 'Y', 'Z']\n",
    "\n",
    "if shift_direction == \"l\":\n",
    "    new_alphabet = alphabet[real_shift:26] + alphabet[0:real_shift] # left rotation. \n",
    "elif shift_direction == \"r\":\n",
    "    real_shift = 26-real_shift\n",
    "    new_alphabet = alphabet[real_shift:26] + alphabet[0:real_shift]\n",
    "else: \n",
    "    print(\"Failure to indicate a valir shift direction forces the program to assume a shift left.\")\n",
    "    \n",
    "\n",
    "# creating a map from letters to cyphers\n",
    "translator_dict = dict()\n",
    "for idx in range(len(alphabet)):\n",
    "    translator_dict[alphabet[idx]] = new_alphabet[idx]\n",
    "\n",
    "    \n",
    "plaintext = \"\"\n",
    "\n",
    "lower_alphabet = [x.lower() for x in alphabet]\n",
    "\n",
    "for letter in cypher_text:\n",
    "    if letter in alphabet or letter in lower_alphabet:\n",
    "        plaintext += translator_dict[letter.upper()]\n",
    "    else:\n",
    "        plaintext += letter\n",
    "\n",
    "    \n",
    "print(translator_dict)\n",
    "\n",
    "print(\"Plaintext is:\", plaintext)\n"
   ]
  },
  {
   "cell_type": "markdown",
   "metadata": {},
   "source": [
    "### Exercise 6: Aromatic Aminoacids Count\n",
    "\n",
    "    Find the total number of Y, F and W's in the following protein: \n",
    "\n",
    "    254L:A|PDBID|CHAIN|SEQUENCE\n",
    "    MNIFEMLRIDEGLRLKIYKSTEGYYTIGIGHLLTKSPSLNAAKSELDKAIGRNTNGVITKDEAEKLFNQDVDAAVRGILR\n",
    "    NAKLKPVYDSLDAVRRAALINMVFQMGETGVAGFTNSLRMLQQKRWDEAAVNLAKSRWYNQTPNRAKRVITTFRTGTWDA\n",
    "    YKNL\n",
    "\n",
    "> Hint: Use a string method for counting the letters"
   ]
  },
  {
   "cell_type": "code",
   "execution_count": null,
   "metadata": {},
   "outputs": [],
   "source": [
    "protein = \"\"\">254L:A|PDBID|CHAIN|SEQUENCE\n",
    "MNIFEMLRIDEGLRLKIYKSTEGYYTIGIGHLLTKSPSLNAAKSELDKAIGRNTNGVITKDEAEKLFNQDVDAAVRGILR\n",
    "NAKLKPVYDSLDAVRRAALINMVFQMGETGVAGFTNSLRMLQQKRWDEAAVNLAKSRWYNQTPNRAKRVITTFRTGTWDA\n",
    "YKNL\"\"\"   \n",
    "# the heading >254L:A|PDBID|CHAIN|SEQUENCE has no Y,F or W\n",
    "\n",
    "aromatics = [\"Y\",\"F\",\"W\"]\n",
    "\n",
    "total_aromatic = []              \n",
    "for item in aromatics:\n",
    "    total_aromatic.append(protein.count(item))\n",
    "    \n",
    "print(\"\"\"\n",
    "        Number of Y's: {}\n",
    "        Number of F's: {}\n",
    "        Number of W's: {}\n",
    "\"\"\".format(total_aromatic[0], total_aromatic[1], total_aromatic[2]))"
   ]
  }
 ],
 "metadata": {
  "kernelspec": {
   "display_name": "Python 3",
   "language": "python",
   "name": "python3"
  },
  "language_info": {
   "codemirror_mode": {
    "name": "ipython",
    "version": 3
   },
   "file_extension": ".py",
   "mimetype": "text/x-python",
   "name": "python",
   "nbconvert_exporter": "python",
   "pygments_lexer": "ipython3",
   "version": "3.7.7"
  }
 },
 "nbformat": 4,
 "nbformat_minor": 4
}
