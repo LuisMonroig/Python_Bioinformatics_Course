{
 "cells": [
  {
   "cell_type": "markdown",
   "metadata": {},
   "source": [
    "# Python Workshop: 1st Set of Practice Exercises "
   ]
  },
  {
   "cell_type": "markdown",
   "metadata": {},
   "source": [
    "### Exercise 1: Sales Tax\n",
    "    \n",
    "    Write a program that stores the integers 50 and 100 in variables, and stores\n",
    "    the sum of these two in a variable named total. \n",
    "    Show the contents in total to the user."
   ]
  },
  {
   "cell_type": "code",
   "execution_count": null,
   "metadata": {},
   "outputs": [],
   "source": [
    "var_1 = 50  # defining variables in a pythonic way \n",
    "            # i.e. something undescore something\n",
    "var_2 = 100 \n",
    "\n",
    "total = var_1 + var_2\n",
    "\n",
    "print(total) \n",
    "\n"
   ]
  },
  {
   "cell_type": "markdown",
   "metadata": {},
   "source": [
    "### Exercise 2: Sum of Two Numbers\n",
    "\n",
    "    The East Coast sales division of a company generates 58 percent of \n",
    "    total sales. Based on that percentage, write a program that will \n",
    "    predict how much the East Coast division will generate if the company\n",
    "    has $8.6 million in sales this year. \n"
   ]
  },
  {
   "cell_type": "code",
   "execution_count": null,
   "metadata": {},
   "outputs": [],
   "source": [
    "sales_total = 8600000  # 8.6 M\n",
    "\n",
    "earnings = sales_total*.58\n",
    "\n",
    "print(\"The total earnings are $\", earnings,\".\")\n"
   ]
  },
  {
   "cell_type": "markdown",
   "metadata": {},
   "source": [
    "### Exercise 3: Student Profile\n",
    "    Build a Student Profile that has 3 variables:\n",
    "        Students name\n",
    "        Student ID\n",
    "        Students Age\n",
    "    Ask this information to the user and print this information \n",
    "    back to the user using the following format:\n",
    "        “Student Name: (This will be the students name)\n",
    "        Students Age: (Students age)\n",
    "        Student ID: (Student ID)”"
   ]
  },
  {
   "cell_type": "code",
   "execution_count": null,
   "metadata": {},
   "outputs": [],
   "source": [
    "student_name = input(\"Please provide the student's name: \")\n",
    "student_id = input(\"Please provide the student's id number: \")\n",
    "student_age = input(\"Please provide the student's age: \")\n",
    "\n",
    "print() # equivalent to printing \"\\n\" \n",
    "\n",
    "print(\"Student Name:\", student_name)\n",
    "print(\"Students Age:\", student_age) \n",
    "print(\"Student ID:\", student_id)\n",
    "\n",
    "\n",
    "\n"
   ]
  },
  {
   "cell_type": "markdown",
   "metadata": {},
   "source": [
    "### Exercise 4: Average of Values\n",
    "\n",
    "    To get the average of a series of values, you add the values up and then\n",
    "    divide the sum by the number of values. Write a program that stores the \n",
    "    following values in five dif- ferent variables: 28, 32, 37, 24, and 33. \n",
    "    The program should first calculate the sum of these five variables and \n",
    "    store the result in a separate variable named sum. Then, the program should\n",
    "    divide the sum variable by 5 to get the average. Display the average\n",
    "    on the screen. \n"
   ]
  },
  {
   "cell_type": "code",
   "execution_count": null,
   "metadata": {},
   "outputs": [],
   "source": [
    "val_1 = 28\n",
    "val_2 = 32\n",
    "val_3 = 37\n",
    "val_4 = 24\n",
    "val_5 = 33\n",
    "\n",
    "sum_values = val_1 + val_2 + val_3 + val_4 + val_5\n",
    "\n",
    "average = sum_values/5\n",
    "\n",
    "print(\"The average value is:\",average)\n",
    "\n"
   ]
  }
 ],
 "metadata": {
  "kernelspec": {
   "display_name": "Python 3",
   "language": "python",
   "name": "python3"
  },
  "language_info": {
   "codemirror_mode": {
    "name": "ipython",
    "version": 3
   },
   "file_extension": ".py",
   "mimetype": "text/x-python",
   "name": "python",
   "nbconvert_exporter": "python",
   "pygments_lexer": "ipython3",
   "version": "3.7.7"
  }
 },
 "nbformat": 4,
 "nbformat_minor": 4
}
